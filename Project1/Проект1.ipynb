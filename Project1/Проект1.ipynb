{
 "cells": [
  {
   "cell_type": "code",
   "execution_count": 30,
   "metadata": {},
   "outputs": [],
   "source": [
    "import csv\n",
    "\n",
    "with open('newspaper/metadata.csv', mode='w',encoding=\"utf-8\") as csv_file:\n",
    "    fieldnames = ['author','header']\n",
    "    writer = csv.DictWriter(csv_file, fieldnames=fieldnames, delimiter='\\t')\n",
    "\n",
    "    writer.writeheader()\n",
    "    writer.writerow({'author': 'Наталья КРЫЛОВА', 'header':'В Мордовии школьники уйдут на осенние каникулы 29 октября'})\n",
    "    writer.writerow({'author': 'Игорь МЕЛЬНИКОВ', 'header':'В Саранске стартовала педагогическая олимпиада'})"
   ]
  },
  {
   "cell_type": "code",
   "execution_count": 31,
   "metadata": {},
   "outputs": [
    {
     "data": {
      "text/plain": [
       "0"
      ]
     },
     "execution_count": 31,
     "metadata": {},
     "output_type": "execute_result"
    }
   ],
   "source": [
    "import os\n",
    "\n",
    "if not os.path.exists('newspaper/plain/2018/10/'):\n",
    "    os.makedirs('newspaper/plain/2018/10')\n",
    "    \n",
    "if not os.path.exists('newspaper/mystem-plain/2018/10/'):\n",
    "    os.makedirs('newspaper/mystem-plain/2018/10')\n",
    "    \n",
    "if not os.path.exists('newspaper/mystem-xml/2018/10/'):\n",
    "    os.makedirs('newspaper/mystem-xml/2018/10')\n",
    "\n",
    "f = open(\"newspaper/plain/2018/10/article1.txt\", \"w\", encoding=\"utf-8\")  \n",
    "f.write('В Саранске стартовала педагогическая олимпиада') #адаптировать\n",
    "f.close()\n",
    "\n",
    "os.system(\"C:\\mystem.exe -cgid newspaper/plain/2018/10/article1.txt newspaper/mystem-plain/2018/10/article1.txt\") #возьми файл и распарсируй и положи туда-то\n",
    "os.system(\"C:\\mystem.exe -cgid --format xml newspaper/plain/2018/10/article1.txt newspaper/mystem-xml/2018/10/article1.xml\")"
   ]
  },
  {
   "cell_type": "code",
   "execution_count": 32,
   "metadata": {},
   "outputs": [],
   "source": [
    "import urllib.request\n",
    "url = 'https://izvmor.ru/novosti/nauka-i-obrazovanie/v-mordovii-shkolniki-uydut-na-osennie-kanikuly-29-oktyabrya-/'  # адрес страницы, которую мы хотим скачать\n",
    "user_agent = 'Mozilla/5.0 (Windows NT 6.1; Win64; x64)'  # хотим притворяться браузером\n",
    "\n",
    "req = urllib.request.Request(url, headers={'User-Agent':user_agent})  \n",
    "# добавили в запрос информацию о том, что мы браузер Мозилла\n",
    "\n",
    "with urllib.request.urlopen(req) as response:\n",
    "   html = response.read().decode('utf-8')"
   ]
  },
  {
   "cell_type": "code",
   "execution_count": 33,
   "metadata": {},
   "outputs": [
    {
     "name": "stdout",
     "output_type": "stream",
     "text": [
      "['<h1>В Мордовии школьники уйдут на осенние каникулы 29 октября </h1>', '<h1>В Мордовии школьники уйдут на осенние каникулы 29 октября </h1>']\n",
      "В Мордовии школьники уйдут на осенние каникулы 29 октября \n",
      "В Мордовии школьники уйдут на осенние каникулы 29 октября \n"
     ]
    }
   ],
   "source": [
    "import re\n",
    "regPostTitle = re.compile('<h1>.*?</h1>', flags= re.DOTALL)\n",
    "titles = regPostTitle.findall(html)\n",
    "print(titles)\n",
    "new_titles = []\n",
    "regTag = re.compile('<.*?>', re.DOTALL)\n",
    "regSpace = re.compile('\\s{2,}', re.DOTALL)\n",
    "for t in titles:\n",
    "    clean_t = regSpace.sub(\"\", t)\n",
    "    clean_t = regTag.sub(\"\", clean_t)\n",
    "    new_titles.append(clean_t)\n",
    "for t in new_titles:\n",
    "    print(t)"
   ]
  },
  {
   "cell_type": "code",
   "execution_count": 34,
   "metadata": {},
   "outputs": [
    {
     "name": "stdout",
     "output_type": "stream",
     "text": [
      "@ti  В Саранске стартовала педагогическая олимпиада \n",
      "@ti  В Саранске стартовала педагогическая олимпиада \n",
      "@ti  В Мордовии школьники уйдут на осенние каникулы 29 октября \n",
      "@ti  В Мордовии школьники уйдут на осенние каникулы 29 октября \n",
      "@ti  В Мордовском пединституте обсудили вопросы инклюзивного образования \n",
      "@ti  В Мордовском пединституте обсудили вопросы инклюзивного образования \n",
      "@ti  В Мордовии старшеклассники и студенты снимут финансовые видеоролики\n",
      "@ti  В Мордовии старшеклассники и студенты снимут финансовые видеоролики\n",
      "@ti  Экологический проект стартовал в саранской школе №40\n",
      "@ti  Экологический проект стартовал в саранской школе №40\n"
     ]
    }
   ],
   "source": [
    "\n",
    "def download_page(pageUrl):\n",
    "    try:\n",
    "        page = urllib.request.urlopen(pageUrl)\n",
    "        text = page.read().decode('utf-8')\n",
    "        #print(text[:210])\n",
    "        regPostTitle = re.compile('<h1>.*?</h1>', flags= re.DOTALL)\n",
    "        titles = regPostTitle.findall(text)\n",
    "        #print(titles)\n",
    "        new_titles = []\n",
    "        regTag = re.compile('<.*?>', re.DOTALL)\n",
    "        regSpace = re.compile('\\s{2,}', re.DOTALL)\n",
    "        for t in titles:\n",
    "            clean_t = regSpace.sub(\"\", t)\n",
    "            clean_t = regTag.sub(\"\", clean_t)\n",
    "            new_titles.append(clean_t)\n",
    "        for t in new_titles: \n",
    "            print('@ti ', t)\n",
    "        regPostTitleAuthor = re.compile('<p>Автор:.*?</p>', flags= re.DOTALL)\n",
    "        author = regPostTitleAuthor.findall(text)\n",
    "        #print(author)\n",
    "        new_author = []\n",
    "        regTag1 = re.compile('<.*?>', re.DOTALL)\n",
    "        regSpace1 = re.compile('\\s{2,}', re.DOTALL)\n",
    "        regDescr1 = re.compile('Автор: ', re.DOTALL)\n",
    "        for a in author:\n",
    "            clean_a = regSpace1.sub(\"\", a)\n",
    "            clean_a = regTag1.sub(\"\", clean_a)\n",
    "            clean_a = regDescr1.sub(\"\", clean_a)\n",
    "            new_author.append(clean_a)\n",
    "        for a in new_author:\n",
    "            print('@au ',a)\n",
    "        regPostcontent = re.compile('</h1>.*?Автор:', flags= re.DOTALL)\n",
    "        content = regPostcontent.findall(text)\n",
    "        #print(content)\n",
    "        new_content = []\n",
    "        regTag2 = re.compile('<.*?>', re.DOTALL)\n",
    "        regSpace2 = re.compile('\\s{2,}', re.DOTALL)\n",
    "        regDescr2 = re.compile('Автор:', re.DOTALL)\n",
    "        for c in content:\n",
    "            clean_c = regSpace2.sub(\"\", c)\n",
    "            clean_c = regTag2.sub(\"\", clean_c)\n",
    "            clean_c = regDescr2.sub(\"\", clean_c)\n",
    "            new_content.append(clean_c)\n",
    "        for c in new_content:\n",
    "            print(c.replace(\"&nbsp;\", \" \"))\n",
    "    except:\n",
    "        print('Error at', pageUrl)\n",
    "    return\n",
    "\n",
    "commonUrl = 'https://izvmor.ru/novosti/nauka-i-obrazovanie/'\n",
    "st = ['v-saranske-startovala-pedagogicheskaya-olimpiada-/','v-mordovii-shkolniki-uydut-na-osennie-kanikuly-29-oktyabrya-/' , 'v-mordovskom-pedinstitute-obsudili-voprosy-inklyuzivnogo-obrazovaniya-/' , 'v-mordovii-starsheklassniki-i-studenty-snimut-finansovye-videoroliki/' , 'ekologicheskiy-proekt-startoval-v-saranskoy-shkole-40/']\n",
    "for s in st:\n",
    "    pageUrl = commonUrl + s\n",
    "    download_page(pageUrl)\n",
    "    #print(pageUrl)"
   ]
  }
 ],
 "metadata": {
  "kernelspec": {
   "display_name": "Python 3",
   "language": "python",
   "name": "python3"
  },
  "language_info": {
   "codemirror_mode": {
    "name": "ipython",
    "version": 3
   },
   "file_extension": ".py",
   "mimetype": "text/x-python",
   "name": "python",
   "nbconvert_exporter": "python",
   "pygments_lexer": "ipython3",
   "version": "3.7.0"
  }
 },
 "nbformat": 4,
 "nbformat_minor": 2
}
